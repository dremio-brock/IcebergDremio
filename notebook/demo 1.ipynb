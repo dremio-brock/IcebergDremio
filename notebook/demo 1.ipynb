{
 "cells": [
  {
   "cell_type": "code",
   "execution_count": 9,
   "id": "df6fc2f7",
   "metadata": {},
   "outputs": [
    {
     "name": "stdout",
     "output_type": "stream",
     "text": [
      "Requirement already satisfied: pyspark==3.1.1 in /opt/conda/lib/python3.9/site-packages (3.1.1)\n",
      "Requirement already satisfied: findspark in /opt/conda/lib/python3.9/site-packages (1.4.2)\n",
      "Requirement already satisfied: py4j==0.10.9 in /opt/conda/lib/python3.9/site-packages (from pyspark==3.1.1) (0.10.9)\n",
      "Note: you may need to restart the kernel to use updated packages.\n"
     ]
    }
   ],
   "source": [
    "%pip install pyspark==3.1.1 findspark"
   ]
  },
  {
   "cell_type": "code",
   "execution_count": 1,
   "id": "8b0a9528",
   "metadata": {},
   "outputs": [],
   "source": [
    "import iceberg_spark\n",
    "spark, jvm, hive_uri, sc = iceberg_spark.start_spark('minio', 'minio', 'hive')\n",
    "sc.setLogLevel('FATAL')"
   ]
  },
  {
   "cell_type": "code",
   "execution_count": 2,
   "id": "496a67aa",
   "metadata": {},
   "outputs": [
    {
     "name": "stdout",
     "output_type": "stream",
     "text": [
      "+---+----+--------+\n",
      "| id|data|category|\n",
      "+---+----+--------+\n",
      "+---+----+--------+\n",
      "\n"
     ]
    }
   ],
   "source": [
    "# Create table\n",
    "spark.sql(\"\"\"\n",
    "CREATE OR REPLACE TABLE sample (\n",
    "    id bigint,\n",
    "    data string,\n",
    "    category string)\n",
    "USING iceberg\n",
    "PARTITIONED BY (category)\"\"\")\n",
    "\n",
    "spark.read.table('sample').show()"
   ]
  },
  {
   "cell_type": "code",
   "execution_count": 3,
   "id": "22fe4f25",
   "metadata": {},
   "outputs": [
    {
     "name": "stdout",
     "output_type": "stream",
     "text": [
      "+---+----+--------+\n",
      "| id|data|category|\n",
      "+---+----+--------+\n",
      "|  1|   a|  orders|\n",
      "|  2|   b| product|\n",
      "+---+----+--------+\n",
      "\n"
     ]
    }
   ],
   "source": [
    "# insert records into a table\n",
    "spark.sql(\"\"\"INSERT INTO sample VALUES (1, 'a', 'orders'), (2, 'b', 'product')\"\"\")\n",
    "\n",
    "spark.read.table('sample').show()"
   ]
  },
  {
   "cell_type": "code",
   "execution_count": 5,
   "id": "65e92e78",
   "metadata": {},
   "outputs": [
    {
     "name": "stdout",
     "output_type": "stream",
     "text": [
      "+---+------------+--------+\n",
      "| id|        data|category|\n",
      "+---+------------+--------+\n",
      "|  2|           b| product|\n",
      "|  1|updated_data|  orders|\n",
      "+---+------------+--------+\n",
      "\n"
     ]
    }
   ],
   "source": [
    "# update records in a table\n",
    "spark.sql(\"\"\"\n",
    "UPDATE default.sample\n",
    "SET data = 'updated_data'\n",
    "WHERE category = 'orders'\"\"\")\n",
    "\n",
    "spark.read.table('sample').show()"
   ]
  },
  {
   "cell_type": "code",
   "execution_count": 6,
   "id": "d66c44d7",
   "metadata": {},
   "outputs": [
    {
     "name": "stdout",
     "output_type": "stream",
     "text": [
      "Table compacted\n"
     ]
    }
   ],
   "source": [
    "# Using Java compact the table for performance\n",
    "catalog = jvm.CatalogUtil.loadCatalog(\"org.apache.iceberg.hive.HiveCatalog\", \"spark_catalog\", {'uri': hive_uri}, sc._jsc.hadoopConfiguration())\n",
    "\n",
    "# Select the table\n",
    "table_name = jvm.TableIdentifier.parse(\"default.sample\")\n",
    "table = catalog.loadTable(table_name)\n",
    "\n",
    "# Run the compact\n",
    "jvm.Actions.forTable(table).rewriteDataFiles().targetSizeInBytes(500 * 1024 * 1024).execute()\n",
    "print(\"Table compacted\")"
   ]
  },
  {
   "cell_type": "code",
   "execution_count": null,
   "id": "3d1fcf8d",
   "metadata": {},
   "outputs": [],
   "source": [
    "# delete records from a table\n",
    "spark.sql(\"\"\"DELETE FROM sample WHERE category = 'orders'\"\"\")\n",
    "\n",
    "spark.read.table('sample').show()"
   ]
  },
  {
   "cell_type": "code",
   "execution_count": null,
   "id": "7b0e884c",
   "metadata": {},
   "outputs": [],
   "source": [
    "# Droping tables\n",
    "spark.sql(\"DROP TABLE sample\")"
   ]
  },
  {
   "cell_type": "code",
   "execution_count": 7,
   "id": "8943896e",
   "metadata": {},
   "outputs": [
    {
     "name": "stdout",
     "output_type": "stream",
     "text": [
      "+---+------------+--------+\n",
      "| id|        data|category|\n",
      "+---+------------+--------+\n",
      "|  2|           b| product|\n",
      "|  1|updated_data|  orders|\n",
      "+---+------------+--------+\n",
      "\n"
     ]
    }
   ],
   "source": [
    "spark.read.table('sample').show()"
   ]
  },
  {
   "cell_type": "markdown",
   "id": "76859e35",
   "metadata": {},
   "source": [
    "# Writing with DataFrames\n",
    "[apache Iceberg](https://iceberg.apache.org/spark-writes/#writing-with-dataframes)\n",
    "<ul>\n",
    "    <li>df.writeTo(t).create() is equivalent to CREATE TABLE AS SELECT</li>\n",
    "    <li>df.writeTo(t).replace() is equivalent to REPLACE TABLE AS SELECT</li>\n",
    "    <li>df.writeTo(t).append() is equivalent to INSERT INTO</li>\n",
    "    <li>df.writeTo(t).overwritePartitions() is equivalent to dynamic INSERT OVERWRITE</li>\n",
    "</ul>\n"
   ]
  }
 ],
 "metadata": {
  "kernelspec": {
   "display_name": "Python 3",
   "language": "python",
   "name": "python3"
  },
  "language_info": {
   "codemirror_mode": {
    "name": "ipython",
    "version": 3
   },
   "file_extension": ".py",
   "mimetype": "text/x-python",
   "name": "python",
   "nbconvert_exporter": "python",
   "pygments_lexer": "ipython3",
   "version": "3.9.4"
  }
 },
 "nbformat": 4,
 "nbformat_minor": 5
}
