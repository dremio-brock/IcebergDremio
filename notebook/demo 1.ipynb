{
 "cells": [
  {
   "cell_type": "code",
   "execution_count": 1,
   "id": "df6fc2f7",
   "metadata": {},
   "outputs": [
    {
     "name": "stdout",
     "output_type": "stream",
     "text": [
      "Collecting pyspark==3.1.2\n",
      "  Downloading pyspark-3.1.2.tar.gz (212.4 MB)\n",
      "     |████████████████████████████████| 212.4 MB 69 kB/s              \n",
      "\u001b[?25h  Preparing metadata (setup.py) ... \u001b[?25ldone\n",
      "\u001b[?25hCollecting findspark\n",
      "  Downloading findspark-1.4.2-py2.py3-none-any.whl (4.2 kB)\n",
      "Collecting py4j==0.10.9\n",
      "  Downloading py4j-0.10.9-py2.py3-none-any.whl (198 kB)\n",
      "     |████████████████████████████████| 198 kB 8.9 MB/s            \n",
      "\u001b[?25hBuilding wheels for collected packages: pyspark\n",
      "  Building wheel for pyspark (setup.py) ... \u001b[?25ldone\n",
      "\u001b[?25h  Created wheel for pyspark: filename=pyspark-3.1.2-py2.py3-none-any.whl size=212880768 sha256=7a271fa38831d7e19be5da6a3fc023129605dd96273f5a81fd3204eb860ab837\n",
      "  Stored in directory: /home/jovyan/.cache/pip/wheels/11/17/0b/53e7d10fe66ca7647d391cdba323fcf5b2f9dfcb7ebad87aa7\n",
      "Successfully built pyspark\n",
      "Installing collected packages: py4j, pyspark, findspark\n",
      "Successfully installed findspark-1.4.2 py4j-0.10.9 pyspark-3.1.2\n",
      "Note: you may need to restart the kernel to use updated packages.\n"
     ]
    }
   ],
   "source": [
    "%pip install pyspark==3.1.2 findspark"
   ]
  },
  {
   "cell_type": "code",
   "execution_count": 2,
   "id": "8b0a9528",
   "metadata": {},
   "outputs": [
    {
     "name": "stderr",
     "output_type": "stream",
     "text": [
      "WARNING: An illegal reflective access operation has occurred\n",
      "WARNING: Illegal reflective access by org.apache.spark.unsafe.Platform (file:/usr/local/spark-3.1.2-bin-hadoop3.2/jars/spark-unsafe_2.12-3.1.2.jar) to constructor java.nio.DirectByteBuffer(long,int)\n",
      "WARNING: Please consider reporting this to the maintainers of org.apache.spark.unsafe.Platform\n",
      "WARNING: Use --illegal-access=warn to enable warnings of further illegal reflective access operations\n",
      "WARNING: All illegal access operations will be denied in a future release\n"
     ]
    },
    {
     "name": "stdout",
     "output_type": "stream",
     "text": [
      ":: loading settings :: url = jar:file:/usr/local/spark-3.1.2-bin-hadoop3.2/jars/ivy-2.4.0.jar!/org/apache/ivy/core/settings/ivysettings.xml\n"
     ]
    },
    {
     "name": "stderr",
     "output_type": "stream",
     "text": [
      "Ivy Default Cache set to: /home/jovyan/.ivy2/cache\n",
      "The jars for the packages stored in: /home/jovyan/.ivy2/jars\n",
      "org.apache.iceberg#iceberg-spark3-runtime added as a dependency\n",
      "org.apache.hadoop#hadoop-aws added as a dependency\n",
      "com.amazonaws#aws-java-sdk-bundle added as a dependency\n",
      ":: resolving dependencies :: org.apache.spark#spark-submit-parent-d97cdb9f-a244-4b41-9e81-0d024081bfec;1.0\n",
      "\tconfs: [default]\n",
      "\tfound org.apache.iceberg#iceberg-spark3-runtime;0.12.0 in central\n",
      "\tfound org.apache.hadoop#hadoop-aws;3.2.0 in central\n",
      "\tfound com.amazonaws#aws-java-sdk-bundle;1.11.375 in central\n",
      "downloading https://repo1.maven.org/maven2/org/apache/iceberg/iceberg-spark3-runtime/0.12.0/iceberg-spark3-runtime-0.12.0.jar ...\n",
      "\t[SUCCESSFUL ] org.apache.iceberg#iceberg-spark3-runtime;0.12.0!iceberg-spark3-runtime.jar (1789ms)\n",
      "downloading https://repo1.maven.org/maven2/org/apache/hadoop/hadoop-aws/3.2.0/hadoop-aws-3.2.0.jar ...\n",
      "\t[SUCCESSFUL ] org.apache.hadoop#hadoop-aws;3.2.0!hadoop-aws.jar (109ms)\n",
      "downloading https://repo1.maven.org/maven2/com/amazonaws/aws-java-sdk-bundle/1.11.375/aws-java-sdk-bundle-1.11.375.jar ...\n",
      "\t[SUCCESSFUL ] com.amazonaws#aws-java-sdk-bundle;1.11.375!aws-java-sdk-bundle.jar (61780ms)\n",
      ":: resolution report :: resolve 5347ms :: artifacts dl 63684ms\n",
      "\t:: modules in use:\n",
      "\tcom.amazonaws#aws-java-sdk-bundle;1.11.375 from central in [default]\n",
      "\torg.apache.hadoop#hadoop-aws;3.2.0 from central in [default]\n",
      "\torg.apache.iceberg#iceberg-spark3-runtime;0.12.0 from central in [default]\n",
      "\t---------------------------------------------------------------------\n",
      "\t|                  |            modules            ||   artifacts   |\n",
      "\t|       conf       | number| search|dwnlded|evicted|| number|dwnlded|\n",
      "\t---------------------------------------------------------------------\n",
      "\t|      default     |   3   |   3   |   3   |   0   ||   3   |   3   |\n",
      "\t---------------------------------------------------------------------\n",
      ":: retrieving :: org.apache.spark#spark-submit-parent-d97cdb9f-a244-4b41-9e81-0d024081bfec\n",
      "\tconfs: [default]\n",
      "\t3 artifacts copied, 0 already retrieved (123073kB/167ms)\n",
      "21/11/22 02:25:40 WARN NativeCodeLoader: Unable to load native-hadoop library for your platform... using builtin-java classes where applicable\n",
      "Using Spark's default log4j profile: org/apache/spark/log4j-defaults.properties\n",
      "Setting default log level to \"WARN\".\n",
      "To adjust logging level use sc.setLogLevel(newLevel). For SparkR, use setLogLevel(newLevel).\n"
     ]
    }
   ],
   "source": [
    "import iceberg_spark\n",
    "# This calls a function that will take the config name, source name, catalog type\n",
    "# When using hive, you must use a hive source in Drmeio\n",
    "# When using hadoop, you must use the file based storage in Dremio\n",
    "spark, jvm, hive_uri, sc = iceberg_spark.start_spark('minio', 'minio', 'hive')\n",
    "sc.setLogLevel('FATAL')"
   ]
  },
  {
   "cell_type": "code",
   "execution_count": 3,
   "id": "496a67aa",
   "metadata": {},
   "outputs": [
    {
     "name": "stdout",
     "output_type": "stream",
     "text": [
      "+---+----+--------+\n",
      "| id|data|category|\n",
      "+---+----+--------+\n",
      "+---+----+--------+\n",
      "\n"
     ]
    }
   ],
   "source": [
    "# Create table\n",
    "spark.sql(\"\"\"\n",
    "CREATE OR REPLACE TABLE sample (\n",
    "    id bigint,\n",
    "    data string,\n",
    "    category string)\n",
    "USING iceberg\n",
    "PARTITIONED BY (category)\"\"\")\n",
    "\n",
    "spark.read.table('sample').show()"
   ]
  },
  {
   "cell_type": "code",
   "execution_count": 4,
   "id": "22fe4f25",
   "metadata": {},
   "outputs": [
    {
     "name": "stderr",
     "output_type": "stream",
     "text": [
      "                                                                                \r"
     ]
    },
    {
     "name": "stdout",
     "output_type": "stream",
     "text": [
      "+---+----+--------+\n",
      "| id|data|category|\n",
      "+---+----+--------+\n",
      "|  1|   a|  orders|\n",
      "|  2|   b| product|\n",
      "+---+----+--------+\n",
      "\n"
     ]
    }
   ],
   "source": [
    "# insert records into a table\n",
    "spark.sql(\"\"\"INSERT INTO sample VALUES (1, 'a', 'orders'), (2, 'b', 'product')\"\"\")\n",
    "\n",
    "spark.read.table('sample').show()"
   ]
  },
  {
   "cell_type": "code",
   "execution_count": 4,
   "id": "65e92e78",
   "metadata": {},
   "outputs": [
    {
     "name": "stdout",
     "output_type": "stream",
     "text": [
      "+---+------------+--------+\n",
      "| id|        data|category|\n",
      "+---+------------+--------+\n",
      "|  1|updated_data|  orders|\n",
      "|  2|           b| product|\n",
      "+---+------------+--------+\n",
      "\n"
     ]
    }
   ],
   "source": [
    "# update records in a table\n",
    "spark.sql(\"\"\"\n",
    "UPDATE default.sample\n",
    "SET data = 'updated_data'\n",
    "WHERE category = 'orders'\"\"\")\n",
    "\n",
    "spark.read.table('sample').show()"
   ]
  },
  {
   "cell_type": "code",
   "execution_count": 5,
   "id": "d66c44d7",
   "metadata": {},
   "outputs": [
    {
     "name": "stdout",
     "output_type": "stream",
     "text": [
      "Table compacted\n"
     ]
    }
   ],
   "source": [
    "# Using Java compact the table for performance\n",
    "catalog = jvm.CatalogUtil.loadCatalog(\"org.apache.iceberg.hive.HiveCatalog\", \"spark_catalog\", {'uri': hive_uri}, sc._jsc.hadoopConfiguration())\n",
    "\n",
    "#Glue Compact\n"
    "#catalog = jvm.CatalogUtil.loadCatalog("org.apache.iceberg.aws.glue.GlueCatalog", "spark_catalog", {'warehouse': "s3a://bucket/folder/"}, sc._jsc.hadoopConfiguration())\n"
    "\n"
    "# Select the table\n",
    "table_name = jvm.TableIdentifier.parse(\"default.sample\")\n",
    "table = catalog.loadTable(table_name)\n",
    "\n",
    "# Run the compact\n",
    "jvm.Actions.forTable(table).rewriteDataFiles().targetSizeInBytes(500 * 1024 * 1024).execute()\n",
    "print(\"Table compacted\")"
   ]
  },
  {
   "cell_type": "code",
   "execution_count": null,
   "id": "3d1fcf8d",
   "metadata": {},
   "outputs": [],
   "source": [
    "# delete records from a table\n",
    "spark.sql(\"\"\"DELETE FROM sample WHERE category = 'orders'\"\"\")\n",
    "\n",
    "spark.read.table('sample').show()"
   ]
  },
  {
   "cell_type": "code",
   "execution_count": null,
   "id": "7b0e884c",
   "metadata": {},
   "outputs": [],
   "source": [
    "# Droping tables\n",
    "spark.sql(\"DROP TABLE sample\")"
   ]
  },
  {
   "cell_type": "code",
   "execution_count": 7,
   "id": "8943896e",
   "metadata": {},
   "outputs": [
    {
     "name": "stdout",
     "output_type": "stream",
     "text": [
      "+---+------------+--------+\n",
      "| id|        data|category|\n",
      "+---+------------+--------+\n",
      "|  2|           b| product|\n",
      "|  1|updated_data|  orders|\n",
      "+---+------------+--------+\n",
      "\n"
     ]
    }
   ],
   "source": [
    "spark.read.table('sample').show()"
   ]
  },
  {
   "cell_type": "markdown",
   "id": "76859e35",
   "metadata": {},
   "source": [
    "# Writing with DataFrames\n",
    "[apache Iceberg](https://iceberg.apache.org/spark-writes/#writing-with-dataframes)\n",
    "<ul>\n",
    "    <li>df.writeTo(t).create() is equivalent to CREATE TABLE AS SELECT</li>\n",
    "    <li>df.writeTo(t).replace() is equivalent to REPLACE TABLE AS SELECT</li>\n",
    "    <li>df.writeTo(t).append() is equivalent to INSERT INTO</li>\n",
    "    <li>df.writeTo(t).overwritePartitions() is equivalent to dynamic INSERT OVERWRITE</li>\n",
    "</ul>\n"
   ]
  }
 ],
 "metadata": {
  "kernelspec": {
   "display_name": "Python 3 (ipykernel)",
   "language": "python",
   "name": "python3"
  },
  "language_info": {
   "codemirror_mode": {
    "name": "ipython",
    "version": 3
   },
   "file_extension": ".py",
   "mimetype": "text/x-python",
   "name": "python",
   "nbconvert_exporter": "python",
   "pygments_lexer": "ipython3",
   "version": "3.9.7"
  }
 },
 "nbformat": 4,
 "nbformat_minor": 5
}
