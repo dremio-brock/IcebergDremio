{
 "cells": [
  {
   "cell_type": "code",
   "execution_count": null,
   "id": "df6fc2f7",
   "metadata": {},
   "outputs": [],
   "source": [
    "%pip install pyspark findspark"
   ]
  },
  {
   "cell_type": "code",
   "execution_count": 1,
   "id": "8b0a9528",
   "metadata": {},
   "outputs": [
    {
     "name": "stderr",
     "output_type": "stream",
     "text": [
      "WARNING: An illegal reflective access operation has occurred\n",
      "WARNING: Illegal reflective access by org.apache.spark.unsafe.Platform (file:/usr/local/spark-3.1.2-bin-hadoop3.2/jars/spark-unsafe_2.12-3.1.2.jar) to constructor java.nio.DirectByteBuffer(long,int)\n",
      "WARNING: Please consider reporting this to the maintainers of org.apache.spark.unsafe.Platform\n",
      "WARNING: Use --illegal-access=warn to enable warnings of further illegal reflective access operations\n",
      "WARNING: All illegal access operations will be denied in a future release\n",
      "Ivy Default Cache set to: /home/jovyan/.ivy2/cache\n",
      "The jars for the packages stored in: /home/jovyan/.ivy2/jars\n",
      "org.apache.iceberg#iceberg-spark3-runtime added as a dependency\n",
      "org.apache.hadoop#hadoop-aws added as a dependency\n",
      "com.amazonaws#aws-java-sdk-bundle added as a dependency\n",
      ":: resolving dependencies :: org.apache.spark#spark-submit-parent-e72489c7-3ad1-4bbb-b783-e04059f8b151;1.0\n",
      "\tconfs: [default]\n"
     ]
    },
    {
     "name": "stdout",
     "output_type": "stream",
     "text": [
      ":: loading settings :: url = jar:file:/usr/local/spark-3.1.2-bin-hadoop3.2/jars/ivy-2.4.0.jar!/org/apache/ivy/core/settings/ivysettings.xml\n"
     ]
    },
    {
     "name": "stderr",
     "output_type": "stream",
     "text": [
      "\tfound org.apache.iceberg#iceberg-spark3-runtime;0.12.0 in central\n",
      "\tfound org.apache.hadoop#hadoop-aws;3.2.0 in central\n",
      "\tfound com.amazonaws#aws-java-sdk-bundle;1.11.375 in central\n",
      ":: resolution report :: resolve 153ms :: artifacts dl 4ms\n",
      "\t:: modules in use:\n",
      "\tcom.amazonaws#aws-java-sdk-bundle;1.11.375 from central in [default]\n",
      "\torg.apache.hadoop#hadoop-aws;3.2.0 from central in [default]\n",
      "\torg.apache.iceberg#iceberg-spark3-runtime;0.12.0 from central in [default]\n",
      "\t---------------------------------------------------------------------\n",
      "\t|                  |            modules            ||   artifacts   |\n",
      "\t|       conf       | number| search|dwnlded|evicted|| number|dwnlded|\n",
      "\t---------------------------------------------------------------------\n",
      "\t|      default     |   3   |   0   |   0   |   0   ||   3   |   0   |\n",
      "\t---------------------------------------------------------------------\n",
      ":: retrieving :: org.apache.spark#spark-submit-parent-e72489c7-3ad1-4bbb-b783-e04059f8b151\n",
      "\tconfs: [default]\n",
      "\t0 artifacts copied, 3 already retrieved (0kB/6ms)\n",
      "21/11/18 03:32:55 WARN NativeCodeLoader: Unable to load native-hadoop library for your platform... using builtin-java classes where applicable\n",
      "Using Spark's default log4j profile: org/apache/spark/log4j-defaults.properties\n",
      "Setting default log level to \"WARN\".\n",
      "To adjust logging level use sc.setLogLevel(newLevel). For SparkR, use setLogLevel(newLevel).\n",
      "21/11/18 03:32:55 WARN Utils: Service 'SparkUI' could not bind on port 4040. Attempting port 4041.\n"
     ]
    }
   ],
   "source": [
    "import iceberg_spark\n",
    "spark, jvm, hive_uri, sc = iceberg_spark.start_spark('s3', 'aws', 'hadoop')"
   ]
  },
  {
   "cell_type": "code",
   "execution_count": 2,
   "id": "496a67aa",
   "metadata": {},
   "outputs": [
    {
     "name": "stderr",
     "output_type": "stream",
     "text": [
      "21/11/18 03:32:58 WARN MetricsConfig: Cannot locate configuration: tried hadoop-metrics2-s3a-file-system.properties,hadoop-metrics2.properties\n"
     ]
    },
    {
     "name": "stdout",
     "output_type": "stream",
     "text": [
      "+---+----+--------+\n",
      "| id|data|category|\n",
      "+---+----+--------+\n",
      "+---+----+--------+\n",
      "\n"
     ]
    }
   ],
   "source": [
    "# Create table\n",
    "spark.sql(\"\"\"\n",
    "CREATE OR REPLACE TABLE sample (\n",
    "    id bigint,\n",
    "    data string,\n",
    "    category string)\n",
    "USING iceberg\n",
    "PARTITIONED BY (category)\"\"\")\n",
    "\n",
    "spark.read.table('sample').show()"
   ]
  },
  {
   "cell_type": "code",
   "execution_count": 3,
   "id": "22fe4f25",
   "metadata": {},
   "outputs": [
    {
     "name": "stderr",
     "output_type": "stream",
     "text": [
      "[Stage 1:>                                                          (0 + 1) / 1]\r"
     ]
    },
    {
     "name": "stdout",
     "output_type": "stream",
     "text": [
      "+---+----+--------+\n",
      "| id|data|category|\n",
      "+---+----+--------+\n",
      "|  1|   a|  orders|\n",
      "|  2|   b| product|\n",
      "+---+----+--------+\n",
      "\n"
     ]
    },
    {
     "name": "stderr",
     "output_type": "stream",
     "text": [
      "\r",
      "                                                                                \r"
     ]
    }
   ],
   "source": [
    "# insert records into a table\n",
    "spark.sql(\"\"\"INSERT INTO sample VALUES (1, 'a', 'orders'), (2, 'b', 'product')\"\"\")\n",
    "\n",
    "spark.read.table('sample').show()"
   ]
  },
  {
   "cell_type": "code",
   "execution_count": null,
   "id": "65e92e78",
   "metadata": {},
   "outputs": [],
   "source": [
    "# update records in a table\n",
    "spark.sql(\"\"\"\n",
    "UPDATE default.sample\n",
    "SET data = 'updated_data'\n",
    "WHERE category = 'orders'\"\"\")\n",
    "\n",
    "spark.read.table('sample').show()"
   ]
  },
  {
   "cell_type": "code",
   "execution_count": null,
   "id": "d66c44d7",
   "metadata": {},
   "outputs": [],
   "source": [
    "# Using Java compact the table for performance\n",
    "catalog = jvm.CatalogUtil.loadCatalog(\"org.apache.iceberg.hive.HiveCatalog\", \"spark_catalog\", {'uri': hive_uri}, sc._jsc.hadoopConfiguration())\n",
    "\n",
    "# Select the table\n",
    "table_name = jvm.TableIdentifier.parse(\"default.sample\")\n",
    "table = catalog.loadTable(table_name)\n",
    "\n",
    "# Run the compact\n",
    "jvm.Actions.forTable(table).rewriteDataFiles().targetSizeInBytes(500 * 1024 * 1024).execute()\n",
    "print(\"Table compacted\")"
   ]
  },
  {
   "cell_type": "code",
   "execution_count": null,
   "id": "3d1fcf8d",
   "metadata": {},
   "outputs": [],
   "source": [
    "# delete records from a table\n",
    "spark.sql(\"\"\"DELETE FROM sample WHERE category = 'orders'\"\"\")\n",
    "\n",
    "spark.read.table('sample').show()"
   ]
  },
  {
   "cell_type": "code",
   "execution_count": null,
   "id": "7b0e884c",
   "metadata": {},
   "outputs": [],
   "source": [
    "# Droping tables\n",
    "spark.sql(\"DROP TABLE sample\")"
   ]
  },
  {
   "cell_type": "code",
   "execution_count": null,
   "id": "8943896e",
   "metadata": {},
   "outputs": [],
   "source": [
    "spark.read.table('sample').show()"
   ]
  },
  {
   "cell_type": "markdown",
   "id": "76859e35",
   "metadata": {},
   "source": [
    "# Writing with DataFrames\n",
    "[apache Iceberg](https://iceberg.apache.org/spark-writes/#writing-with-dataframes)\n",
    "<ul>\n",
    "    <li>df.writeTo(t).create() is equivalent to CREATE TABLE AS SELECT</li>\n",
    "    <li>df.writeTo(t).replace() is equivalent to REPLACE TABLE AS SELECT</li>\n",
    "    <li>df.writeTo(t).append() is equivalent to INSERT INTO</li>\n",
    "    <li>df.writeTo(t).overwritePartitions() is equivalent to dynamic INSERT OVERWRITE</li>\n",
    "</ul>\n"
   ]
  }
 ],
 "metadata": {
  "kernelspec": {
   "display_name": "Python 3 (ipykernel)",
   "language": "python",
   "name": "python3"
  },
  "language_info": {
   "codemirror_mode": {
    "name": "ipython",
    "version": 3
   },
   "file_extension": ".py",
   "mimetype": "text/x-python",
   "name": "python",
   "nbconvert_exporter": "python",
   "pygments_lexer": "ipython3",
   "version": "3.9.6"
  }
 },
 "nbformat": 4,
 "nbformat_minor": 5
}
