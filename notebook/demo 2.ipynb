{
 "cells": [
  {
   "cell_type": "code",
   "execution_count": null,
   "id": "490e93d8",
   "metadata": {},
   "outputs": [],
   "source": [
    "%pip install python-binance pyspark"
   ]
  },
  {
   "cell_type": "code",
   "execution_count": null,
   "id": "6101fb11",
   "metadata": {},
   "outputs": [],
   "source": [
    "from binance.client import Client\n",
    "import configparser\n",
    "from os import environ\n",
    "from pyspark import sql\n",
    "from pyspark.sql.functions import *\n",
    "import time\n",
    "\n",
    "# Read config file\n",
    "config = configparser.ConfigParser()\n",
    "config.read('config.ini')\n",
    "api_secret = config['DEFAULT']['bananceSecret']\n",
    "api_key = config['DEFAULT']['binanceApi']\n",
    "warehouse = config['DEFAULT']['warehouse']\n",
    "secret = config['DEFAULT']['secret']\n",
    "storageAccountName  = config['DEFAULT']['storageAccountName']\n",
    "hive_uri = config['DEFAULT']['hive_uri']\n",
    "\n",
    "# create client\n",
    "client = Client(api_key, api_secret, tld='us')\n",
    "\n",
    "# add Iceberg dependency\n",
    "ICEBERG_VERSION=\"0.12.0\"\n",
    "DEPENDENCIES=\"org.apache.iceberg:iceberg-spark3-runtime:{}\".format(ICEBERG_VERSION)\n",
    "DEPENDENCIES+=\",org.apache.hadoop:hadoop-azure:3.2.0\"\n",
    "DEPENDENCIES+=\",com.microsoft.azure:azure-storage:7.0.0\" \n",
    "DEPENDENCIES+=\",org.apache.hadoop:hadoop-azure-datalake:3.2.0\"\n",
    "\n",
    "# set environment dependencies\n",
    "environ['PYSPARK_SUBMIT_ARGS'] = '--packages {} pyspark-shell'.format(DEPENDENCIES)\n",
    "\n",
    "# Create spark session with jars\n",
    "spark = sql.SparkSession.builder \\\n",
    "        .master(\"local[8]\") \\\n",
    "        .config('spark.jars.packages', DEPENDENCIES) \\\n",
    "        .getOrCreate() \n",
    "        \n",
    "        \n",
    "\n",
    "# Set iceberg settings\n",
    "spark.conf.set(\"fs.azure.account.key.\" +  storageAccountName + \".blob.core.windows.net\", secret)\n",
    "spark.conf.set(\"spark.sql.catalog.spark_catalog.warehouse\", warehouse)\n",
    "spark.conf.set(\"spark.sql.catalog.spark_catalog.type\", \"hive\")\n",
    "spark.conf.set(\"spark.sql.catalog.spark_catalog\", \"org.apache.iceberg.spark.SparkSessionCatalog\")\n",
    "spark.conf.set(\"spark.sql.catalog.spark_catalog.uri\", hive_uri)"
   ]
  },
  {
   "cell_type": "code",
   "execution_count": null,
   "id": "28347e79",
   "metadata": {},
   "outputs": [],
   "source": [
    "\n",
    "# get current prices from binance\n",
    "tickers = client.get_all_tickers()\n",
    "\n",
    "#convert to a spark dataframe, cast data type to decimal, and add date and timestamp columns\n",
    "tickersDF = spark.createDataFrame(data=tickers)\n",
    "tickersDF = tickersDF.withColumn(\"price\", col(\"price\").cast(\"decimal(38,8)\"))\n",
    "tickersDF = tickersDF.withColumn(\"date\", current_date()).withColumn(\"ts\", current_timestamp())\n",
    "\n",
    "\n",
    "#write to an iceberg table\n",
    "tickersDF.writeTo('tickers').using('iceberg').partitionedBy('date').createOrReplace()"
   ]
  },
  {
   "cell_type": "code",
   "execution_count": null,
   "id": "91bc036e",
   "metadata": {},
   "outputs": [],
   "source": [
    "spark.table(\"tickers\").show()"
   ]
  },
  {
   "cell_type": "code",
   "execution_count": null,
   "id": "48aff613",
   "metadata": {},
   "outputs": [],
   "source": [
    "# create funtion to append data\n",
    "def get_tickers():\n",
    "    # get current prices from binance\n",
    "    tickers = client.get_all_tickers()\n",
    "    \n",
    "    #convert to a spark dataframe & add date and timestamp columns\n",
    "    tickersDF = spark.createDataFrame(data=tickers)\n",
    "    tickersDF = tickersDF.withColumn(\"price\", col(\"price\").cast(\"decimal(38,8)\"))\n",
    "    tickersDF = tickersDF.withColumn(\"date\", current_date()).withColumn(\"ts\", current_timestamp())\n",
    "    \n",
    "    \n",
    "    #write to an iceberg table\n",
    "    tickersDF.writeTo('tickers').append()"
   ]
  },
  {
   "cell_type": "code",
   "execution_count": null,
   "id": "ed81aa24",
   "metadata": {},
   "outputs": [],
   "source": [
    "# Function to repeat a task\n",
    "def load_tickers(interval):\n",
    "    while True:\n",
    "        get_tickers()\n",
    "        time.sleep(interval)"
   ]
  },
  {
   "cell_type": "code",
   "execution_count": null,
   "id": "a4eb77aa",
   "metadata": {},
   "outputs": [],
   "source": [
    "# call periodic work every 10 seconds\n",
    "load_tickers(10)"
   ]
  },
  {
   "cell_type": "markdown",
   "id": "1c4ee0ae",
   "metadata": {},
   "source": [
    "# Writing with DataFrames\n",
    "[apache Iceberg](https://iceberg.apache.org/spark-writes/#writing-with-dataframes)\n",
    "<ul>\n",
    "    <li>df.writeTo(t).create() is equivalent to CREATE TABLE AS SELECT</li>\n",
    "    <li>df.writeTo(t).replace() is equivalent to REPLACE TABLE AS SELECT</li>\n",
    "    <li>df.writeTo(t).append() is equivalent to INSERT INTO</li>\n",
    "    <li>df.writeTo(t).overwritePartitions() is equivalent to dynamic INSERT OVERWRITE</li>\n",
    "</ul>\n"
   ]
  },
  {
   "cell_type": "code",
   "execution_count": null,
   "id": "574f5ccc",
   "metadata": {},
   "outputs": [],
   "source": []
  }
 ],
 "metadata": {
  "kernelspec": {
   "display_name": "Python 3 (ipykernel)",
   "language": "python",
   "name": "python3"
  },
  "language_info": {
   "codemirror_mode": {
    "name": "ipython",
    "version": 3
   },
   "file_extension": ".py",
   "mimetype": "text/x-python",
   "name": "python",
   "nbconvert_exporter": "python",
   "pygments_lexer": "ipython3",
   "version": "3.9.6"
  }
 },
 "nbformat": 4,
 "nbformat_minor": 5
}
