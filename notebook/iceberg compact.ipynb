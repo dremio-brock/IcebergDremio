{
 "cells": [
  {
   "cell_type": "code",
   "execution_count": null,
   "id": "72e1ea5f",
   "metadata": {},
   "outputs": [],
   "source": [
    "%pip install findspark pyspark"
   ]
  },
  {
   "cell_type": "code",
   "execution_count": null,
   "id": "d68e5d3b",
   "metadata": {},
   "outputs": [],
   "source": [
    "import configparser\n",
    "import os\n",
    "import findspark\n",
    "from pyspark.sql import SparkSession, functions\n",
    "from pyspark import SparkConf, SparkContext\n",
    "from py4j.java_gateway import java_import\n",
    "findspark.init()\n",
    "\n",
    "# Read config file\n",
    "config = configparser.ConfigParser()\n",
    "config.read('config.ini')\n",
    "warehouse = config['DEFAULT']['warehouse']\n",
    "secret = config['DEFAULT']['secret']\n",
    "storageAccountName  = config['DEFAULT']['storageAccountName']\n",
    "hive_uri = config['DEFAULT']['hive_uri']\n",
    "\n",
    "# add Iceberg dependency\n",
    "ICEBERG_VERSION=\"0.12.0\"\n",
    "DEPENDENCIES=\"org.apache.iceberg:iceberg-spark3-runtime:{}\".format(ICEBERG_VERSION)\n",
    "DEPENDENCIES+=\",org.apache.hadoop:hadoop-azure:3.2.0\"\n",
    "DEPENDENCIES+=\",com.microsoft.azure:azure-storage:7.0.0\" \n",
    "DEPENDENCIES+=\",org.apache.hadoop:hadoop-azure-datalake:3.2.0\"\n",
    "#DEPENDENCIES+=\",org.apache.hadoop:hadoop-common:3.2.0\"\n",
    "#DEPENDENCIES+=\",org.apache.hadoop:hadoop-core:1.2.1\"\n",
    "\n",
    "conf = SparkConf()\n",
    "# Set iceberg settings\n",
    "conf.set('spark.jars.packages', DEPENDENCIES)\n",
    "conf.set(\"spark.sql.execution.pyarrow.enabled\", \"true\")\n",
    "conf.set(\"fs.azure.account.key.dremio.blob.core.windows.net\", secret)\n",
    "conf.set(\"spark.sql.catalog.spark_catalog.warehouse\", warehouse)\n",
    "conf.set(\"spark.sql.catalog.spark_catalog.type\", \"hive\")\n",
    "conf.set(\"spark.sql.catalog.spark_catalog\", \"org.apache.iceberg.spark.SparkSessionCatalog\")\n",
    "conf.set(\"spark.sql.catalog.spark_catalog.uri\", hive_uri)\n",
    "conf.set(\"spark.sql.extensions\", \"org.apache.iceberg.spark.extensions.IcebergSparkSessionExtensions\")\n",
    "spark = SparkSession.builder.config(conf=conf).getOrCreate()\n",
    "sc = spark.sparkContext\n",
    "jvm = sc._gateway.jvm\n",
    "\n",
    "# must be done using Java\n",
    "sc._jsc.hadoopConfiguration().set(\"fs.azure.account.key.\" + storageAccountName + \".blob.core.windows.net\", secret)\n",
    "java_import(jvm, \"org.apache.iceberg.CatalogUtil\")\n",
    "java_import(jvm, \"org.apache.iceberg.catalog.TableIdentifier\")\n",
    "java_import(jvm, \"org.apache.iceberg.Schema\")\n",
    "java_import(jvm, \"org.apache.iceberg.types.Types\")\n",
    "java_import(jvm, \"org.apache.iceberg.PartitionSpec\")\n",
    "java_import(jvm, \"org.apache.iceberg.actions.Actions\")"
   ]
  },
  {
   "cell_type": "code",
   "execution_count": null,
   "id": "ecba1217",
   "metadata": {},
   "outputs": [],
   "source": [
    "# Using Java compact the table for performance\n",
    "catalog = jvm.CatalogUtil.loadCatalog(\"org.apache.iceberg.hive.HiveCatalog\", \"spark_catalog\", {'uri': hive_uri}, sc._jsc.hadoopConfiguration())\n",
    "\n",
    "# Select the table\n",
    "table_name = jvm.TableIdentifier.parse(\"default.tickers\")\n",
    "prices_table = catalog.loadTable(table_name)\n",
    "\n",
    "# Run the compact\n",
    "table = jvm.Actions.forTable(prices_table).rewriteDataFiles().targetSizeInBytes(500 * 1024 * 1024).execute()"
   ]
  },
  {
   "cell_type": "code",
   "execution_count": null,
   "id": "b61f67f1",
   "metadata": {},
   "outputs": [],
   "source": []
  }
 ],
 "metadata": {
  "kernelspec": {
   "display_name": "Python 3 (ipykernel)",
   "language": "python",
   "name": "python3"
  },
  "language_info": {
   "codemirror_mode": {
    "name": "ipython",
    "version": 3
   },
   "file_extension": ".py",
   "mimetype": "text/x-python",
   "name": "python",
   "nbconvert_exporter": "python",
   "pygments_lexer": "ipython3",
   "version": "3.9.6"
  }
 },
 "nbformat": 4,
 "nbformat_minor": 5
}
