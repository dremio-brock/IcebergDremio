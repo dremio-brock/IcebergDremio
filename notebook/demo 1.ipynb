{
 "cells": [
  {
   "cell_type": "code",
   "execution_count": null,
   "id": "aa937ddf",
   "metadata": {},
   "outputs": [],
   "source": [
    "%pip install pyspark"
   ]
  },
  {
   "cell_type": "code",
   "execution_count": null,
   "id": "6101fb11",
   "metadata": {},
   "outputs": [],
   "source": [
    "import configparser\n",
    "from os import environ\n",
    "from pyspark import sql\n",
    "from pyspark.sql.functions import *\n",
    "import time\n",
    "\n",
    "# Read config file\n",
    "config = configparser.ConfigParser()\n",
    "config.read('config.ini')\n",
    "warehouse = config['DEFAULT']['warehouse']\n",
    "secret = config['DEFAULT']['secret']\n",
    "storageAccountName  = config['DEFAULT']['storageAccountName']\n",
    "hive_uri = config['DEFAULT']['hive_uri']\n",
    "\n",
    "\n",
    "# add Iceberg dependency\n",
    "ICEBERG_VERSION=\"0.12.0\"\n",
    "DEPENDENCIES=\"org.apache.iceberg:iceberg-spark3-runtime:{}\".format(ICEBERG_VERSION)\n",
    "DEPENDENCIES+=\",org.apache.hadoop:hadoop-azure:3.2.0\"\n",
    "DEPENDENCIES+=\",com.microsoft.azure:azure-storage:7.0.0\" \n",
    "DEPENDENCIES+=\",org.apache.hadoop:hadoop-azure-datalake:3.2.0\"\n",
    "\n",
    "# set environment dependencies\n",
    "environ['PYSPARK_SUBMIT_ARGS'] = '--packages {} pyspark-shell'.format(DEPENDENCIES)\n",
    "\n",
    "# Create spark session with jars\n",
    "spark = sql.SparkSession.builder \\\n",
    "        .master(\"local[8]\") \\\n",
    "        .config('spark.jars.packages', DEPENDENCIES) \\\n",
    "        .getOrCreate() \n",
    "        \n",
    "        \n",
    "\n",
    "# Set iceberg settings\n",
    "spark.conf.set(\"fs.azure.account.key.\" + storageAccountName + \".blob.core.windows.net\", secret)\n",
    "spark.conf.set(\"spark.sql.catalog.spark_catalog.warehouse\", warehouse)\n",
    "spark.conf.set(\"spark.sql.catalog.spark_catalog.type\", \"hive\")\n",
    "spark.conf.set(\"spark.sql.catalog.spark_catalog\", \"org.apache.iceberg.spark.SparkSessionCatalog\")\n",
    "spark.conf.set(\"spark.sql.catalog.spark_catalog.uri\", hive_uri)"
   ]
  },
  {
   "cell_type": "code",
   "execution_count": null,
   "id": "ca266246",
   "metadata": {},
   "outputs": [],
   "source": [
    "# Create table\n",
    "spark.sql(\"\"\"\n",
    "CREATE OR REPLACE TABLE default.sample (\n",
    "    id bigint,\n",
    "    data string,\n",
    "    category string)\n",
    "USING iceberg\n",
    "PARTITIONED BY (category)\"\"\")"
   ]
  },
  {
   "cell_type": "code",
   "execution_count": null,
   "id": "44a73483",
   "metadata": {},
   "outputs": [],
   "source": [
    "# insert records into a table\n",
    "spark.sql(\"\"\"INSERT INTO default.sample VALUES (1, 'a', 'orders'), (2, 'b', 'product')\"\"\")"
   ]
  },
  {
   "cell_type": "code",
   "execution_count": null,
   "id": "869da4ac",
   "metadata": {},
   "outputs": [],
   "source": [
    "# update records in a table\n",
    "spark.sql(\"\"\"\n",
    "UPDATE default.sample\n",
    "SET data = 'updated_data'\n",
    "WHERE category = 'orders'\"\"\")"
   ]
  },
  {
   "cell_type": "code",
   "execution_count": null,
   "id": "ca250c38",
   "metadata": {},
   "outputs": [],
   "source": [
    "# delete records from a table\n",
    "spark.sql(\"\"\"DELETE FROM default.sample WHERE category = 'orders'\"\"\")"
   ]
  },
  {
   "cell_type": "code",
   "execution_count": null,
   "id": "05097bc9",
   "metadata": {},
   "outputs": [],
   "source": [
    "# Droping tables\n",
    "spark.sql(\"DROP TABLE default.tickers\")"
   ]
  },
  {
   "cell_type": "markdown",
   "id": "1c4ee0ae",
   "metadata": {},
   "source": [
    "# Writing with DataFrames\n",
    "[apache Iceberg](https://iceberg.apache.org/spark-writes/#writing-with-dataframes)\n",
    "<ul>\n",
    "    <li>df.writeTo(t).create() is equivalent to CREATE TABLE AS SELECT</li>\n",
    "    <li>df.writeTo(t).replace() is equivalent to REPLACE TABLE AS SELECT</li>\n",
    "    <li>df.writeTo(t).append() is equivalent to INSERT INTO</li>\n",
    "    <li>df.writeTo(t).overwritePartitions() is equivalent to dynamic INSERT OVERWRITE</li>\n",
    "</ul>\n"
   ]
  },
  {
   "cell_type": "code",
   "execution_count": null,
   "id": "574f5ccc",
   "metadata": {},
   "outputs": [],
   "source": []
  }
 ],
 "metadata": {
  "kernelspec": {
   "display_name": "Python 3 (ipykernel)",
   "language": "python",
   "name": "python3"
  },
  "language_info": {
   "codemirror_mode": {
    "name": "ipython",
    "version": 3
   },
   "file_extension": ".py",
   "mimetype": "text/x-python",
   "name": "python",
   "nbconvert_exporter": "python",
   "pygments_lexer": "ipython3",
   "version": "3.9.6"
  }
 },
 "nbformat": 4,
 "nbformat_minor": 5
}
